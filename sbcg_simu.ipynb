{
 "cells": [
  {
   "cell_type": "code",
   "execution_count": 5,
   "id": "a4efc8c3-09b4-4807-80de-c5348fe1f2ae",
   "metadata": {
    "tags": []
   },
   "outputs": [
    {
     "name": "stdout",
     "output_type": "stream",
     "text": [
      "Step[1000/10000], Loss 0.9279\n",
      "Step[2000/10000], Loss 0.2692\n",
      "Step[3000/10000], Loss 0.1039\n",
      "Step[4000/10000], Loss 0.0750\n",
      "Step[5000/10000], Loss 0.0582\n",
      "Step[6000/10000], Loss 0.0342\n",
      "Step[7000/10000], Loss 0.0291\n",
      "Step[8000/10000], Loss 0.0270\n",
      "Step[9000/10000], Loss 0.0236\n",
      "Step[10000/10000], Loss 0.0197\n"
     ]
    }
   ],
   "source": [
    "import torch\n",
    "import numpy as np\n",
    "import argparse\n",
    "import os\n",
    "os.environ['KMP_DUPLICATE_LIB_OK']='True'\n",
    "from torch.utils.data import TensorDataset\n",
    "from torch.utils.data import DataLoader\n",
    "from train import create_parser\n",
    "from network import ToyNet\n",
    "from diffusion import Follmer\n",
    "from data import get_target_fn\n",
    "from misc import dict2obj\n",
    "from data import get_target_fn, compute_target_mean_and_sd\n",
    "use_cuda = torch.cuda.is_available()\n",
    "device = torch.device(\"cuda\" if use_cuda else \"cpu\")\n",
    "defaults = dict(device=0, seed=42, data_name='m1', nsample=5000, output='logs/m1/ckpt',\n",
    "                data_dim=1, cond_dim=5, sigma_data=1, M=1,bsz=1000, train_steps=10000, lr=1e-3, \n",
    "                dump_freq=1000, print_freq=1000, sde_solver='alpha-maruyama', \n",
    "                eps0=1e-3, eps1=1e-3, num_steps=1000, heun_steps=13, ntest=5000, nMC=200)\n",
    "\n",
    "args = dict2obj(defaults)\n",
    "os.makedirs(args.output, exist_ok=True)\n",
    "device = torch.device(f\"cuda:{args.device}\") if torch.cuda.is_available() else torch.device(\"cpu\")\n",
    "np.random.seed(args.seed)\n",
    "\n",
    "target_fn = get_target_fn(args.data_name)\n",
    "cond = np.random.uniform(-3,3,[args.nsample, args.cond_dim])\n",
    "data = target_fn(cond)\n",
    "data = torch.from_numpy(data).float()\n",
    "cond = torch.from_numpy(cond).float()\n",
    "dataset = TensorDataset(data, cond)\n",
    "loader = DataLoader(dataset, batch_size=args.bsz, shuffle=True, drop_last=True)\n",
    "def create_infinite_dataloader(loader):\n",
    "    while True:\n",
    "        yield from loader\n",
    "loader = create_infinite_dataloader(loader)\n",
    "model = ToyNet(args.data_dim, args.cond_dim, hidden_dims=[32, 16]).to(device)\n",
    "optim = torch.optim.Adam(model.parameters(), lr=args.lr)\n",
    "sde = Follmer(args)\n",
    "\n",
    "for step in range(1, args.train_steps+1):\n",
    "    batch, cond = next(loader)\n",
    "    batch  = batch.to(device)\n",
    "    cond = cond.to(device)\n",
    "    optim.zero_grad()\n",
    "    loss = sde.compute_schr_loss(model, batch, cond)\n",
    "    loss.backward()\n",
    "    optim.step()\n",
    "    if step % args.print_freq == 0:\n",
    "        print(f\"Step[{step}/{args.train_steps}], Loss {loss.item():.4f}\")\n",
    "    if step % args.dump_freq == 0 or step == args.train_steps:\n",
    "        torch.save(dict(model=model.state_dict(), optim=optim.state_dict, step=step), \n",
    "                f\"{args.output}/{step}.pth\")"
   ]
  },
  {
   "cell_type": "code",
   "execution_count": 6,
   "id": "d01a330b-e205-43e7-a152-f7e2cfb6bc86",
   "metadata": {},
   "outputs": [
    {
     "name": "stdout",
     "output_type": "stream",
     "text": [
      "MSE(mean):0.022, MSE(SD)=0.013\n"
     ]
    }
   ],
   "source": [
    "grid = torch.linspace(args.eps0, 1-args.eps1, args.num_steps, device=device)\n",
    "x1 = sde.sampling_prior(shape=torch.Tensor(args.nMC*args.ntest, args.data_dim), device=device)\n",
    "cond = np.random.randn(args.ntest, args.cond_dim)\n",
    "cond = np.random.uniform(-3,3,[args.ntest, args.cond_dim])\n",
    "mean, sd = compute_target_mean_and_sd(args.data_name, cond)\n",
    "mean_ = np.empty_like(mean)\n",
    "sd_ = np.empty_like(sd)\n",
    "cond = np.repeat(cond, args.nMC, axis=0)\n",
    "cond = torch.from_numpy(cond).float().to(device)\n",
    "with torch.no_grad():\n",
    "    x0 = sde.solve_sde(model, x1, grid, args.sde_solver, cond).cpu().numpy()\n",
    "pred = x0\n",
    "for j in range(args.ntest):\n",
    "    mean_[j] = np.mean(pred[j*args.nMC:(j+1)*args.nMC, :])\n",
    "    sd_[j] = np.std(pred[j*args.nMC:(j+1)*args.nMC, :])\n",
    "mse_mean = np.mean(np.square(mean - mean_))\n",
    "mse_sd = np.mean(np.square(sd - sd_))\n",
    "print(f'MSE(mean):{mse_mean:.3f}, MSE(SD)={mse_sd.mean():.3f}')"
   ]
  },
  {
   "cell_type": "code",
   "execution_count": null,
   "id": "9494eb60-773c-4b3e-9592-7af7badc7720",
   "metadata": {},
   "outputs": [],
   "source": []
  }
 ],
 "metadata": {
  "kernelspec": {
   "display_name": "Python 3 (ipykernel)",
   "language": "python",
   "name": "python3"
  },
  "language_info": {
   "codemirror_mode": {
    "name": "ipython",
    "version": 3
   },
   "file_extension": ".py",
   "mimetype": "text/x-python",
   "name": "python",
   "nbconvert_exporter": "python",
   "pygments_lexer": "ipython3",
   "version": "3.11.5"
  }
 },
 "nbformat": 4,
 "nbformat_minor": 5
}
